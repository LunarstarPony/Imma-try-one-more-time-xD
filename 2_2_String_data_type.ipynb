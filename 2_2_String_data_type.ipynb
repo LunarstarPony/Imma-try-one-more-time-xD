{
  "nbformat": 4,
  "nbformat_minor": 0,
  "metadata": {
    "colab": {
      "name": "2_2 String data type.ipynb",
      "provenance": [],
      "collapsed_sections": [],
      "authorship_tag": "ABX9TyOR28JN9aF+Nx7oxqVkaYHC",
      "include_colab_link": true
    },
    "kernelspec": {
      "name": "python3",
      "display_name": "Python 3"
    }
  },
  "cells": [
    {
      "cell_type": "markdown",
      "metadata": {
        "id": "view-in-github",
        "colab_type": "text"
      },
      "source": [
        "<a href=\"https://colab.research.google.com/github/LunarstarPony/Imma-try-one-more-time-xD/blob/master/2_2_String_data_type.ipynb\" target=\"_parent\"><img src=\"https://colab.research.google.com/assets/colab-badge.svg\" alt=\"Open In Colab\"/></a>"
      ]
    },
    {
      "cell_type": "code",
      "metadata": {
        "id": "7ut2r66A7Wl_",
        "colab_type": "code",
        "colab": {
          "base_uri": "https://localhost:8080/",
          "height": 101
        },
        "outputId": "704c3973-f22f-46df-f7ff-879d416b1da9"
      },
      "source": [
        "a='  Hello   '\n",
        "b='  Python ! '\n",
        "\n",
        "print(\"a+b= \",(a),(b))\n",
        "\n",
        "print(\"a*2=\",(a)*2)\n",
        "\n",
        "print(\"a[1:4]:\", a[1:4])\n",
        "\n",
        "print(\"H  in a: \" , a[:])\n",
        "\n",
        "print(\"H not in a: \",a[3:])\n",
        "\n",
        "\n",
        "\n"
      ],
      "execution_count": 24,
      "outputs": [
        {
          "output_type": "stream",
          "text": [
            "a+b=    Hello      Python ! \n",
            "a*2=   Hello     Hello   \n",
            "a[1:4]:  He\n",
            "H  in a:    Hello   \n",
            "H not in a:  ello   \n"
          ],
          "name": "stdout"
        }
      ]
    }
  ]
}